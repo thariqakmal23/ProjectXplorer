{
  "nbformat": 4,
  "nbformat_minor": 0,
  "metadata": {
    "colab": {
      "provenance": [],
      "authorship_tag": "ABX9TyNLNrgyt485NirZCJxhXG9p",
      "include_colab_link": true
    },
    "kernelspec": {
      "name": "python3",
      "display_name": "Python 3"
    },
    "language_info": {
      "name": "python"
    }
  },
  "cells": [
    {
      "cell_type": "markdown",
      "metadata": {
        "id": "view-in-github",
        "colab_type": "text"
      },
      "source": [
        "<a href=\"https://colab.research.google.com/github/thariqakmal23/ProjectXplorer/blob/main/Soal_PRAKFISKOM2_.ipynb\" target=\"_parent\"><img src=\"https://colab.research.google.com/assets/colab-badge.svg\" alt=\"Open In Colab\"/></a>"
      ]
    },
    {
      "cell_type": "code",
      "execution_count": 1,
      "metadata": {
        "id": "KM0d44rRwo-c"
      },
      "outputs": [],
      "source": []
    },
    {
      "cell_type": "markdown",
      "source": [
        "# SOAL\n",
        "\n",
        "Sebuah benda jatuh bebas dari ketinggian 20 m. Jika percepatan gravitasi  bumi adalah 10 m/s^2.  \n",
        "Maka waktu yang diperlukan oleh benda sampai ke tanah adalah?  \n",
        "\n",
        "Jawab:  \n",
        "Diketahui :  \n",
        "h = 20 m  \n",
        "g = 10 m/s^2  \n",
        "Ditanya : t = ?  \n",
        "Penyelesaian :   \n",
        "h = 1/2.g.t^2   \n",
        "20 m = 1/2. 10 m/s^2 . t^2  \n",
        "t^2 = 20/5  s^2  \n",
        "t^2 = √4\n",
        "t = 2 s\n"
      ],
      "metadata": {
        "id": "xuVQu7MO0cHw"
      }
    },
    {
      "cell_type": "code",
      "source": [
        "# h = 1/2 g t^2\n",
        "h = 20 #m\n",
        "g = 10 #m/s^2\n",
        "\n",
        "# Penyelesaian\n",
        "h = (1/2)*g*t**2\n",
        "print(t, \"sekon\")\n"
      ],
      "metadata": {
        "colab": {
          "base_uri": "https://localhost:8080/"
        },
        "id": "PcjHNwMRyOFJ",
        "outputId": "9c41e1ad-bad3-4145-e9ee-585b0a5e7a07"
      },
      "execution_count": 2,
      "outputs": [
        {
          "output_type": "stream",
          "name": "stdout",
          "text": [
            "2.0 sekon\n"
          ]
        }
      ]
    }
  ]
}